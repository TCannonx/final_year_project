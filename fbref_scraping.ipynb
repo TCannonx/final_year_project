{
 "cells": [
  {
   "cell_type": "code",
   "execution_count": 1,
   "id": "7e8a78ad",
   "metadata": {},
   "outputs": [],
   "source": [
    "import requests\n",
    "from bs4 import BeautifulSoup\n",
    "import pandas as pd\n",
    "import re\n",
    "import csv\n",
    "import numpy as np\n",
    "\n",
    "import os\n",
    "\n",
    "from unidecode import unidecode"
   ]
  },
  {
   "cell_type": "code",
   "execution_count": null,
   "id": "285ed61f",
   "metadata": {},
   "outputs": [],
   "source": [
    "def clean_space(x):\n",
    "    x = ' ' + x\n",
    "    return re.sub('\\s[a-z]+\\s', '', x)\n",
    "\n",
    "def convert_numeric_cols(df):    \n",
    "    for column in df:\n",
    "        try:\n",
    "            df[column] = pd.to_numeric(df[column])\n",
    "        except:\n",
    "            pass\n",
    "        \n",
    "    return df\n",
    "\n",
    "def standardize(string):\n",
    "    new = string.replace('_', ' ')\n",
    "    new = new.title()\n",
    "    return new\n",
    "\n",
    "def standarize_columns(df):\n",
    "    for col in df:\n",
    "        df.rename(columns={col : standardize(col)}, inplace=True)\n",
    "    return df\n",
    "\n",
    "def age_clean(x):\n",
    "    return re.sub('-\\d+', '', x)\n",
    "\n",
    "def clean(df, column, function):\n",
    "    if column in df.columns:\n",
    "        df[column] = df[column].apply(function)\n",
    "        \n",
    "def add_comp_level(df, league):\n",
    "    if 'Comp Level' not in df:\n",
    "        df['Comp Level'] = [league for player in range(df.shape[0])]\n",
    "\n",
    "def table_scraper(url, columns):\n",
    "    res = requests.get(url)\n",
    "    comm = re.compile(\"<!--|-->\")\n",
    "    soup = BeautifulSoup(comm.sub(\"\",res.text),'lxml')\n",
    "    all_tables = soup.findAll(\"tbody\")\n",
    "    team_table = all_tables[0]\n",
    "    player_table = all_tables[1]\n",
    "\n",
    "    pre_df_player = dict()\n",
    "    features_wanted_player = columns\n",
    "    rows_player = player_table.find_all('tr')\n",
    "    for row in rows_player:\n",
    "        if(row.find('th',{\"scope\":\"row\"}) != None):\n",
    "            for f in features_wanted_player:\n",
    "                cell = row.find(\"td\",{\"data-stat\": f})\n",
    "                if cell != None:\n",
    "                    a = cell.text.strip().encode()\n",
    "                    text=a.decode(\"utf-8\")\n",
    "                    if f in pre_df_player:\n",
    "                        pre_df_player[f].append(text)\n",
    "                    else:\n",
    "                        pre_df_player[f] = [text]\n",
    "\n",
    "    df_player = pd.DataFrame.from_dict(pre_df_player)\n",
    "    \n",
    "    clean(df_player, 'nationality', clean_space)\n",
    "    clean(df_player, 'comp_level', clean_space)\n",
    "    clean(df_player, 'age', age_clean)\n",
    "    clean(df_player, 'nationality', clean_space)\n",
    "    \n",
    "    # convert numeric columns from objects to floats/integers\n",
    "    df_player = convert_numeric_cols(df_player)\n",
    "    \n",
    "    # standardize columns\n",
    "    df_player = standarize_columns(df_player)\n",
    "    \n",
    "    df_player = df_player.fillna(0)\n",
    "    \n",
    "    return df_player\n",
    "\n",
    "def combine_df(current_df, addition_df):\n",
    "    if current_df.shape[0] == 0:\n",
    "        new_df = current_df.append(addition_df)\n",
    "        \n",
    "    else:\n",
    "        current_df_columns = set(current_df.columns)\n",
    "        addition_df_columns = set(addition_df.columns)\n",
    "        common_cols = list(current_df_columns.intersection(addition_df_columns))\n",
    "        \n",
    "        new_df = pd.merge(current_df, addition_df, on=common_cols, how='outer')\n",
    "        \n",
    "    return new_df"
   ]
  },
  {
   "cell_type": "code",
   "execution_count": null,
   "id": "40e1cfeb",
   "metadata": {},
   "outputs": [],
   "source": [
    "standard_stats_columns = ['player', 'nationality', 'team', 'position', 'comp_level', 'age', 'games', 'games_starts', 'minutes', 'minutes_90s', 'goals', 'assists', 'goals_pens', 'pens_made', 'pens_att', 'cards_yellow', 'cards_red', 'goals_per90', 'assists_per90', 'goals_assists_per90', 'goals_pens_per90', 'goals_assists_pens_per90', 'xg', 'npxg', 'xa, right, npxg_xa, xg_per90', 'xa_per90', 'xg_xa_per90', 'npxg_per90', 'npxg_xa_per90']\n",
    "passing_columns = ['player', 'nationality', 'position', 'team', 'comp_level', 'age', 'minutes_90s', 'passes_completed', 'passes', 'passes_pct', 'passes_total_distance', 'passes_progressive_distance', 'passes_completed_short', 'passes_short', 'passes_pct_short', 'passes_completed_medium', 'passes_medium, right, passes_pct_medium', 'passes_completed_long', 'passes_long', 'passes_pct_long', 'assists', 'right', 'xa', 'xa_net', 'assisted_shots', 'passes_into_final_third', 'passes_into_penalty_area', 'crosses_into_penalty_area', 'progressive_passes']\n",
    "shooting_columns = ['player', 'nationality', 'position', 'team', 'comp_level', 'age', 'minutes_90s', 'goals', 'shots_total', 'shots_on_target', 'shots_on_target_pct', 'shots_total_per90', 'shots_on_target_per90', 'goals_per_shot', 'goals_per_shot_on_target', 'average_shot_distance', 'shots_free_kicks', 'pens_made', 'pens_att', 'xg', 'npxg', 'npxg_per_shot', 'xg_net', 'npxg_net']\n",
    "pass_types_columns = ['player', 'nationality', 'position', 'team', 'comp_level', 'age', 'minutes_90s', 'passes', 'passes_live', 'passes_dead', 'passes_free_kicks', 'through_balls', 'passes_pressure', 'passes_switches', 'crosses', 'corner_kicks, corner_kicks_in, corner_kicks_out', 'corner_kicks_straight', 'passes_ground', 'passes_low', 'passes_high, passes_left_foot', 'passes_right_foot', 'passes_head', 'throw_ins', 'passes_other_body', 'passes_completed', 'passes_offsides', 'passes_oob', 'passes_intercepted', 'passes_blocked']\n",
    "shot_creation_columns = ['player', 'nationality', 'position', 'team', 'comp_level', 'age', 'minutes_90s', 'sca', 'sca_per90', 'sca_passes_live', 'sca_passes_dead', 'sca_dribbles', 'sca_shots', 'sca_fouled', 'sca_defense', 'gca', 'gca_per90', 'gca_passes_live', 'gca_passes_dead', 'gca_dribbles', 'gca_shots', 'gca_fouled', 'gca_defense']\n",
    "defense_columns = ['player', 'nationality', 'position', 'team', 'comp_level', 'age', 'minutes_90s', 'tackles', 'tackles_won', 'tackles_def_3rd', 'tackles_mid_3rd', 'tackles_att_3rd', 'dribble_tackles', 'dribbles_vs', 'dribble_tackles_pct', 'dribbled_past', 'pressures', 'pressure_regains', 'pressure_regain_pct', 'pressures_def_3rd', 'pressures_mid_3rd', 'pressures_att_3rd', 'blocks', 'blocked_shots', 'blocked_shots_saves', 'blocked_passes', 'interceptions', 'tackles_interceptions', 'clearances', 'errors']\n",
    "possession_columns = ['player', 'nationality', 'position', 'team', 'comp_level', 'age', 'minutes_90s', 'touches', 'touches_def_pen_area', 'touches_def_3rd', 'touches_mid_3rd', 'touches_att_3rd', 'touches_att_pen_area', 'touches_live_ball', 'dribbles_completed', 'dribbles', 'dribbles_completed_pct', 'players_dribbled_past', 'nutmegs', 'carries', 'carry_distance', 'carry_progressive_distance', 'progressive_carries', 'carries_into_final_third', 'carries_into_penalty_area', 'miscontrols', 'dispossessed', 'pass_targets', 'passes_received', 'passes_received_pct', 'progressive_passes_received']"
   ]
  },
  {
   "cell_type": "code",
   "execution_count": null,
   "id": "2d418688",
   "metadata": {},
   "outputs": [],
   "source": [
    "standard = 'https://fbref.com/en/comps/Big5/2021-2022/stats/players/2021-2022-Big-5-European-Leagues-Stats#stats_standard'\n",
    "shooting = 'https://fbref.com/en/comps/Big5/2021-2022/shooting/players/2021-2022-Big-5-European-Leagues-Stats#stats_shooting'\n",
    "passing = 'https://fbref.com/en/comps/Big5/2021-2022/passing/players/2021-2022-Big-5-European-Leagues-Stats#stats_passing'\n",
    "pass_types = 'https://fbref.com/en/comps/Big5/2021-2022/passing_types/players/2021-2022-Big-5-European-Leagues-Stats#stats_passing_types'\n",
    "gca = 'https://fbref.com/en/comps/Big5/2021-2022/gca/players/2021-2022-Big-5-European-Leagues-Stats#stats_gca'\n",
    "defending = 'https://fbref.com/en/comps/Big5/2021-2022/defense/players/2021-2022-Big-5-European-Leagues-Stats#stats_defense'\n",
    "posession = 'https://fbref.com/en/comps/Big5/2021-2022/possession/players/2021-2022-Big-5-European-Leagues-Stats#compare_possession'\n",
    "\n",
    "urls = [standard, passing, shooting, pass_types, gca, defending, posession]"
   ]
  },
  {
   "cell_type": "code",
   "execution_count": null,
   "id": "6b1c09cf",
   "metadata": {},
   "outputs": [],
   "source": [
    "cols = [standard_stats_columns, passing_columns, shooting_columns, pass_types_columns, shot_creation_columns, defense_columns, possession_columns]\n",
    "\n",
    "urls_cols = {urls[i] : cols[i] for i in range(len(urls))}"
   ]
  },
  {
   "cell_type": "code",
   "execution_count": null,
   "id": "d82d571b",
   "metadata": {},
   "outputs": [],
   "source": [
    "combined_df = pd.DataFrame()\n",
    "for url in urls_cols:\n",
    "    columns = urls_cols[url]\n",
    "    \n",
    "    df = table_scraper(url, columns)\n",
    "    combined_df = combine_df(combined_df, df)"
   ]
  },
  {
   "cell_type": "code",
   "execution_count": null,
   "id": "a39169c7",
   "metadata": {},
   "outputs": [],
   "source": [
    "# add_comp_level(combined_df, 'Liga MX')"
   ]
  },
  {
   "cell_type": "code",
   "execution_count": null,
   "id": "6e074928",
   "metadata": {},
   "outputs": [],
   "source": [
    "identifiers = ['Player', 'Nationality', 'Team', 'Position', 'Comp Level', 'Age', 'Minutes']\n",
    "\n",
    "agg_functions = {}\n",
    "for col in combined_df.columns:\n",
    "    \n",
    "    if col == 'Player':\n",
    "        continue\n",
    "        \n",
    "    elif col in identifiers:\n",
    "        agg_functions[col] = 'first'\n",
    "        \n",
    "    else:\n",
    "        if 'Per90' in col:\n",
    "            agg_functions[col] = 'sum'\n",
    "\n",
    "        else:\n",
    "            agg_functions[col] = 'sum'\n",
    "            \n",
    "combined_df = combined_df.groupby(combined_df['Player']).aggregate(agg_functions).reset_index()\n",
    "\n",
    "\n",
    "for col in combined_df.columns:\n",
    "    if 'Per90' in col:\n",
    "        combined_df = combined_df.drop(columns=[col])"
   ]
  },
  {
   "cell_type": "code",
   "execution_count": null,
   "id": "d62b7f59",
   "metadata": {},
   "outputs": [],
   "source": [
    "identifiers = ['Player', 'Nationality', 'Team', 'Position', 'Games', 'Games Starts', 'Comp Level', 'Age', 'Minutes', 'Minutes 90S']\n",
    "for col in combined_df.columns:\n",
    "    if col not in identifiers:\n",
    "        combined_df[f'{col}_Per90'] = combined_df[col] / combined_df['Minutes 90S']\n",
    "        combined_df = combined_df.drop(columns=[col])"
   ]
  },
  {
   "cell_type": "code",
   "execution_count": null,
   "id": "0e643217",
   "metadata": {},
   "outputs": [],
   "source": [
    "combined_df.replace([np.inf, -np.inf], 0, inplace=True)\n",
    "combined_df = combined_df.fillna(0)\n",
    "combined_df = combined_df.reset_index(drop=True)\n",
    "combined_df = combined_df.round(2)"
   ]
  },
  {
   "cell_type": "code",
   "execution_count": null,
   "id": "ed7e2679",
   "metadata": {},
   "outputs": [],
   "source": [
    "combined_df.to_csv('21_22.csv', index=False)"
   ]
  },
  {
   "cell_type": "code",
   "execution_count": null,
   "id": "03ef5185",
   "metadata": {
    "scrolled": true
   },
   "outputs": [],
   "source": [
    "pd.read_csv('21_22.csv')"
   ]
  },
  {
   "cell_type": "markdown",
   "id": "e917f0bd",
   "metadata": {},
   "source": [
    "## Combine Leagues"
   ]
  },
  {
   "cell_type": "code",
   "execution_count": null,
   "id": "298caa10",
   "metadata": {},
   "outputs": [],
   "source": [
    "folder_path = r'leagues'\n",
    "data_dir = os.listdir(folder_path)"
   ]
  },
  {
   "cell_type": "code",
   "execution_count": null,
   "id": "a9e5466c",
   "metadata": {},
   "outputs": [],
   "source": [
    "combined_df = pd.DataFrame()\n",
    "for league in data_dir:\n",
    "    league_csv_path = folder_path + '/' + league\n",
    "    print(league_csv_path)\n",
    "    new_df = pd.read_csv(league_csv_path)\n",
    "    print('League Shape:', new_df.shape)\n",
    "    combined_df = pd.concat([combined_df, new_df])"
   ]
  },
  {
   "cell_type": "code",
   "execution_count": null,
   "id": "6f1e66d7",
   "metadata": {
    "scrolled": true
   },
   "outputs": [],
   "source": [
    "combined_df.to_csv('test.csv', index=False)"
   ]
  }
 ],
 "metadata": {
  "kernelspec": {
   "display_name": "Python 3 (ipykernel)",
   "language": "python",
   "name": "python3"
  },
  "language_info": {
   "codemirror_mode": {
    "name": "ipython",
    "version": 3
   },
   "file_extension": ".py",
   "mimetype": "text/x-python",
   "name": "python",
   "nbconvert_exporter": "python",
   "pygments_lexer": "ipython3",
   "version": "3.10.9"
  }
 },
 "nbformat": 4,
 "nbformat_minor": 5
}
